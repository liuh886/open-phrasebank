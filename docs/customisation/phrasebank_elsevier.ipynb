{
 "cells": [
  {
   "cell_type": "markdown",
   "metadata": {},
   "source": [
    "# Phrasebank from Elsevier corpus [^1]\n",
    "\n",
    "This notebook has the purpose of extracting the most common phrases from the training data.\n",
    "\n",
    "- E.g. phrasebank_pdf: generate a academic phrasebank from a poupular [scientific writing guidebooks](http://www.phrasebank.manchester.ac.uk/), or a high level scientific journal.\n",
    "- E.g. phrasebank_elsevier: generate a academic phrasebank from [Elsevier OA CC-BY corpus](https://huggingface.co/datasets/orieg/elsevier-oa-cc-by).\n",
    "\n",
    "[^1]: [Elsevier oa-cc-by-corpus](https://researchcollaborations.elsevier.com/en/datasets/elsevier-oa-cc-by-corpus)"
   ]
  },
  {
   "cell_type": "markdown",
   "metadata": {},
   "source": [
    "## Workflows"
   ]
  },
  {
   "cell_type": "markdown",
   "metadata": {},
   "source": [
    "### Step 1: Load the data"
   ]
  },
  {
   "cell_type": "code",
   "execution_count": 1,
   "metadata": {},
   "outputs": [
    {
     "name": "stderr",
     "output_type": "stream",
     "text": [
      "[nltk_data] Downloading package punkt to /home/codespace/nltk_data...\n",
      "[nltk_data]   Package punkt is already up-to-date!\n"
     ]
    },
    {
     "data": {
      "application/vnd.jupyter.widget-view+json": {
       "model_id": "2720f6ccb08049a0854c3070f63d36ed",
       "version_major": 2,
       "version_minor": 0
      },
      "text/plain": [
       "Filter:   0%|          | 0/32072 [00:00<?, ? examples/s]"
      ]
     },
     "metadata": {},
     "output_type": "display_data"
    },
    {
     "data": {
      "application/vnd.jupyter.widget-view+json": {
       "model_id": "38ad4bf396e6452ba13308ad8d313058",
       "version_major": 2,
       "version_minor": 0
      },
      "text/plain": [
       "Filter:   0%|          | 0/4008 [00:00<?, ? examples/s]"
      ]
     },
     "metadata": {},
     "output_type": "display_data"
    },
    {
     "data": {
      "application/vnd.jupyter.widget-view+json": {
       "model_id": "070699656c23468fbcf7b63c63fdfb1d",
       "version_major": 2,
       "version_minor": 0
      },
      "text/plain": [
       "Filter:   0%|          | 0/4009 [00:00<?, ? examples/s]"
      ]
     },
     "metadata": {},
     "output_type": "display_data"
    },
    {
     "name": "stdout",
     "output_type": "stream",
     "text": [
      "Now\n"
     ]
    },
    {
     "name": "stderr",
     "output_type": "stream",
     "text": [
      "Processing title: 100%|██████████| 6114/6114 [00:00<00:00, 7309.86it/s]\n"
     ]
    },
    {
     "name": "stdout",
     "output_type": "stream",
     "text": [
      "Now\n"
     ]
    },
    {
     "name": "stderr",
     "output_type": "stream",
     "text": [
      "Processing abstract: 100%|██████████| 6114/6114 [00:09<00:00, 626.35it/s]\n"
     ]
    },
    {
     "name": "stdout",
     "output_type": "stream",
     "text": [
      "Now\n"
     ]
    },
    {
     "name": "stderr",
     "output_type": "stream",
     "text": [
      "Processing body_text: 100%|██████████| 1357851/1357851 [04:25<00:00, 5118.84it/s]\n"
     ]
    }
   ],
   "source": [
    "from openphrasebank import load_and_tokenize_data\n",
    "\n",
    "# (1) the first time it might take a while to download/tokenize the data (up to half an hour!)\n",
    "# (2) Using 'ENVI','EART' subject. If not set it will use all subject areas.\n",
    "tokens_gen = load_and_tokenize_data(dataset_name=\"orieg/elsevier-oa-cc-by\", \n",
    "                                    subject_areas=['EART','ENVI'],\n",
    "                                    keys=['title', 'abstract','body_text'],\n",
    "                                    save_cache=True,\n",
    "                                    cache_file='temp_tokens.json')"
   ]
  },
  {
   "cell_type": "markdown",
   "metadata": {},
   "source": [
    "### Step 2: generate n-grams\n"
   ]
  },
  {
   "cell_type": "code",
   "execution_count": 2,
   "metadata": {},
   "outputs": [],
   "source": [
    "from openphrasebank import tokens_generator, generate_multiple_ngrams, filter_frequent_ngrams\n",
    "\n",
    "# Define the n values for which you want to calculate n-grams\n",
    "n_values = [1,2,3,4,5,6,7,8]\n",
    "tokens_gen = tokens_generator('temp_tokens.json')\n",
    "# Generate the n-grams and count their frequencies\n",
    "ngram_freqs = generate_multiple_ngrams(tokens_gen, n_values)\n",
    "\n"
   ]
  },
  {
   "cell_type": "markdown",
   "metadata": {},
   "source": [
    "### Step 3: Filter and export\n"
   ]
  },
  {
   "cell_type": "code",
   "execution_count": 3,
   "metadata": {},
   "outputs": [],
   "source": [
    "# Define the top limits for each n-gram length\n",
    "top_limits = {1: 2000, 2: 2000, 3: 1000, 4: 300, 5: 200, 6: 200, 7: 200, 8: 200}\n",
    "\n",
    "# Filter the frequent n-grams and store the results in a dictionary\n",
    "phrases = {}\n",
    "freqs = {}\n",
    "for n, limit in top_limits.items():\n",
    "    phrases[n], freqs[n] = filter_frequent_ngrams(ngram_freqs[n], limit,min_freq=20)\n",
    "\n",
    "# Combine and sort the phrases from n-gram lengths 2 to 7\n",
    "sorted_phrases = sorted(sum((phrases[n] for n in range(2, 7)), []))\n",
    "\n",
    "# Write the sorted phrases to a Markdown file\n",
    "with open('../../phrasebanks/elsevier_phrasebank_ENVI_EART.txt', 'w') as file:\n",
    "    for line in sorted_phrases:\n",
    "        file.write(line + '\\n')"
   ]
  },
  {
   "cell_type": "markdown",
   "metadata": {},
   "source": [
    "### Step 4: Visualization"
   ]
  },
  {
   "cell_type": "code",
   "execution_count": 4,
   "metadata": {},
   "outputs": [],
   "source": [
    "keywords = [\"climate\"]\n",
    "# Convert all strings to lower case\n",
    "lowercase_strings = [s.lower() for s in sorted_phrases]\n",
    "# Filter the list by keywords and remove duplicates\n",
    "filtered_strings = list(set(s for s in lowercase_strings if any(k in s for k in keywords)))"
   ]
  },
  {
   "cell_type": "code",
   "execution_count": 6,
   "metadata": {},
   "outputs": [],
   "source": [
    "from openphrasebank import display_word_tree\n",
    "\n",
    "# Example usage with actual data\n",
    "file_to_save = display_word_tree(lowercase_strings, keywords[0])\n"
   ]
  },
  {
   "cell_type": "code",
   "execution_count": 8,
   "metadata": {},
   "outputs": [],
   "source": [
    "with open(\"../_static/wordtree_climate_geo.html\", 'w') as file:\n",
    "    file.write(file_to_save.data)\n"
   ]
  }
 ],
 "metadata": {
  "kernelspec": {
   "display_name": "Python 3",
   "language": "python",
   "name": "python3"
  },
  "language_info": {
   "codemirror_mode": {
    "name": "ipython",
    "version": 3
   },
   "file_extension": ".py",
   "mimetype": "text/x-python",
   "name": "python",
   "nbconvert_exporter": "python",
   "pygments_lexer": "ipython3",
   "version": "3.10.13"
  }
 },
 "nbformat": 4,
 "nbformat_minor": 2
}
