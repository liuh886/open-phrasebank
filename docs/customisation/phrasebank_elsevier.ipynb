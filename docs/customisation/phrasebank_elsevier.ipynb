{
 "cells": [
  {
   "cell_type": "markdown",
   "metadata": {},
   "source": [
    "# Phrasebank from [elsevier corpus](https://researchcollaborations.elsevier.com/en/datasets/elsevier-oa-cc-by-corpus)\n",
    "\n",
    "This notebook has the purpose of extracting the most common phrases from the training data.\n",
    "\n",
    "- E.g. phrasebank_pdf: generate a academic phrasebank from a poupular [scientific writing guidebooks](http://www.phrasebank.manchester.ac.uk/), or a high level scientific journal.\n",
    "- E.g. phrasebank_elsevier: generate a academic phrasebank from [Elsevier OA CC-BY corpus](https://huggingface.co/datasets/orieg/elsevier-oa-cc-by).\n"
   ]
  },
  {
   "cell_type": "markdown",
   "metadata": {},
   "source": [
    "## Workflows"
   ]
  },
  {
   "cell_type": "code",
   "execution_count": 1,
   "metadata": {},
   "outputs": [
    {
     "name": "stderr",
     "output_type": "stream",
     "text": [
      "[nltk_data] Downloading package punkt to /home/codespace/nltk_data...\n",
      "[nltk_data]   Package punkt is already up-to-date!\n"
     ]
    },
    {
     "name": "stdout",
     "output_type": "stream",
     "text": [
      "Now\n"
     ]
    },
    {
     "name": "stderr",
     "output_type": "stream",
     "text": [
      "Processing title: 100%|██████████| 6114/6114 [00:00<00:00, 7279.73it/s]\n"
     ]
    },
    {
     "name": "stdout",
     "output_type": "stream",
     "text": [
      "Now\n"
     ]
    },
    {
     "name": "stderr",
     "output_type": "stream",
     "text": [
      "Processing abstract: 100%|██████████| 6114/6114 [00:10<00:00, 609.06it/s]\n"
     ]
    },
    {
     "name": "stdout",
     "output_type": "stream",
     "text": [
      "Now\n"
     ]
    },
    {
     "name": "stderr",
     "output_type": "stream",
     "text": [
      "Processing body_text: 100%|██████████| 1357851/1357851 [04:30<00:00, 5027.24it/s]\n"
     ]
    }
   ],
   "source": [
    "### Step 1: Load the data\n",
    "from openphrasebank import load_and_tokenize_data\n",
    "\n",
    "# (1) the first time it might take a while to download/tokenize the data (up to half an hour!)\n",
    "# (2) Using 'ENVI','EART' subject. If not set it will use all subject areas.\n",
    "tokens_gen = load_and_tokenize_data(dataset_name=\"orieg/elsevier-oa-cc-by\", \n",
    "                                subject_areas=['ENVI','EART'],\n",
    "                                keys=['title', 'abstract','body_text'],\n",
    "                                save_cache=True,\n",
    "                                cache_file='temp_tokens.json')\n"
   ]
  },
  {
   "cell_type": "code",
   "execution_count": 2,
   "metadata": {},
   "outputs": [
    {
     "name": "stderr",
     "output_type": "stream",
     "text": [
      "[nltk_data] Downloading package punkt to /home/codespace/nltk_data...\n",
      "[nltk_data]   Package punkt is already up-to-date!\n"
     ]
    }
   ],
   "source": [
    "# Step 2:generate n-grams\n",
    "\n",
    "from openphrasebank import tokens_generator, generate_multiple_ngrams, filter_frequent_ngrams\n",
    "\n",
    "# Define the n values for which you want to calculate n-grams\n",
    "n_values = [1,2,3,4,5,6,7,8]\n",
    "\n",
    "# Tips: When temp_tokens availabe, you can load it into a gemerator\n",
    "tokens_gen = tokens_generator('temp_tokens.json')  #/ 'temp_tokens_p_s.json'\n",
    "\n",
    "# Generate the n-grams and count their frequencies\n",
    "ngram_freqs = generate_multiple_ngrams(tokens_gen, n_values)\n",
    "\n"
   ]
  },
  {
   "cell_type": "code",
   "execution_count": 3,
   "metadata": {},
   "outputs": [],
   "source": [
    "# Step 3: Filter and export\n",
    "\n",
    "# Define the top limits for each n-gram length\n",
    "top_limits = {1: 2000, 2: 2000, 3: 1000, 4: 300, 5: 200, 6: 200, 7: 200, 8: 200}\n",
    "\n",
    "# Filter the frequent n-grams and store the results in a dictionary\n",
    "phrases = {}\n",
    "freqs = {}\n",
    "for n, limit in top_limits.items():\n",
    "    phrases[n], freqs[n] = filter_frequent_ngrams(ngram_freqs[n], limit,min_freq=20)\n",
    "\n",
    "# Combine and sort the phrases from n-gram lengths 2 to 6\n",
    "sorted_phrases = sorted(sum((phrases[n] for n in range(2, 7)), []))\n",
    "\n",
    "# Write the sorted phrases to a Markdown file\n",
    "with open('../elsevier_phrasebank_ENVI_EART.txt', 'w') as file:\n",
    "    for line in sorted_phrases:\n",
    "        file.write(line + '\\n')"
   ]
  },
  {
   "cell_type": "code",
   "execution_count": 9,
   "metadata": {},
   "outputs": [],
   "source": [
    "\n",
    "keywords = [\"climate\"]\n",
    "# Convert all strings to lower case\n",
    "lowercase_strings = [s.lower() for s in sorted_phrases]\n",
    "# Filter the list by keywords and remove duplicates\n",
    "filtered_strings = list(set(s for s in lowercase_strings if any(k in s for k in keywords)))"
   ]
  },
  {
   "cell_type": "code",
   "execution_count": 10,
   "metadata": {},
   "outputs": [
    {
     "data": {
      "text/plain": [
       "['nations framework convention on climate',\n",
       " 'a changing climate',\n",
       " 'the impacts of climate change',\n",
       " 'climate services',\n",
       " 'for climate change',\n",
       " 'regional climate model',\n",
       " 'to climate change',\n",
       " 'framework convention on climate change',\n",
       " 'to adapt to climate',\n",
       " 'to adapt to climate change',\n",
       " 'climate change on',\n",
       " 'adapt to climate',\n",
       " 'implications of climate change',\n",
       " 'in a changing climate',\n",
       " 'adapt to climate change',\n",
       " 'climate change impacts on',\n",
       " 'effects of climate change on',\n",
       " 'the intergovernmental panel on climate',\n",
       " 'impact of climate',\n",
       " 'national climate',\n",
       " 'the intergovernmental panel on climate change',\n",
       " 'the impact of climate change on',\n",
       " 'united nations framework convention on climate',\n",
       " 'impact of climate change on',\n",
       " 'of climate change on',\n",
       " 'responses to climate change',\n",
       " 'to climate change in',\n",
       " 'under climate change',\n",
       " 'in the context of climate change',\n",
       " 'the effects of climate change on',\n",
       " 'impact of climate change',\n",
       " 'of climate',\n",
       " 'the face of climate change',\n",
       " 'of climate change',\n",
       " 'climate scenarios',\n",
       " 'impacts of climate change on',\n",
       " 'in the face of climate',\n",
       " 'to address climate',\n",
       " 'climate change impacts',\n",
       " 'of climate services',\n",
       " 'to climate',\n",
       " 'in climate services',\n",
       " 'changing climate',\n",
       " 'climate change in',\n",
       " 'intergovernmental panel on climate change',\n",
       " 'the effects of climate change',\n",
       " 'of climate change for',\n",
       " 'a temperate climate',\n",
       " 'the impacts of climate change on',\n",
       " 'effects of climate change',\n",
       " 'adaptation to climate change',\n",
       " 'impacts of climate change',\n",
       " 'climate change',\n",
       " 'climate change for',\n",
       " 'future climate',\n",
       " 'the context of climate change',\n",
       " 'in the face of climate change',\n",
       " 'nations framework convention on climate change',\n",
       " 'climate change at',\n",
       " 'under future climate',\n",
       " 'in the context of climate',\n",
       " 'for climate',\n",
       " 'of the intergovernmental panel on climate']"
      ]
     },
     "execution_count": 10,
     "metadata": {},
     "output_type": "execute_result"
    }
   ],
   "source": [
    "filtered_strings"
   ]
  },
  {
   "cell_type": "code",
   "execution_count": 13,
   "metadata": {},
   "outputs": [],
   "source": [
    "from IPython.display import HTML\n",
    "def display_word_tree(phrases, keyword):\n",
    "    js_code = \"\"\"\n",
    "    <script type=\"text/javascript\" src=\"https://www.gstatic.com/charts/loader.js\"></script>\n",
    "    <script type=\"text/javascript\">\n",
    "      google.charts.load('current', {packages:['wordtree']});\n",
    "      google.charts.setOnLoadCallback(drawChart);\n",
    "    \n",
    "      function drawChart() {\n",
    "        var data = google.visualization.arrayToDataTable([\n",
    "          ['Phrases'],\n",
    "          {}\n",
    "        ]);\n",
    "    \n",
    "        var options = {{\n",
    "          wordtree: {{\n",
    "            format: 'implicit',\n",
    "            word: '{}'\n",
    "          }}\n",
    "        }};\n",
    "    \n",
    "        var chart = new google.visualization.WordTree(document.getElementById('wordtree_basic'));\n",
    "        chart.draw(data, options);\n",
    "      }}\n",
    "    </script>\n",
    "    <div id=\"wordtree_basic\" style=\"width: 900px; height: 500px;\"></div>\n",
    "    \"\"\".format(phrases, keyword)\n",
    "    \n",
    "    return HTML(js_code)"
   ]
  },
  {
   "cell_type": "code",
   "execution_count": 14,
   "metadata": {},
   "outputs": [
    {
     "ename": "KeyError",
     "evalue": "'packages'",
     "output_type": "error",
     "traceback": [
      "\u001b[0;31m---------------------------------------------------------------------------\u001b[0m",
      "\u001b[0;31mKeyError\u001b[0m                                  Traceback (most recent call last)",
      "Cell \u001b[0;32mIn[14], line 4\u001b[0m\n\u001b[1;32m      1\u001b[0m \u001b[38;5;66;03m# Step 4: visualize the n-grams\u001b[39;00m\n\u001b[0;32m----> 4\u001b[0m \u001b[43mdisplay_word_tree\u001b[49m\u001b[43m(\u001b[49m\u001b[43mfiltered_strings\u001b[49m\u001b[43m,\u001b[49m\u001b[43m \u001b[49m\u001b[38;5;124;43m'\u001b[39;49m\u001b[38;5;124;43mclimate\u001b[39;49m\u001b[38;5;124;43m'\u001b[39;49m\u001b[43m)\u001b[49m\n",
      "Cell \u001b[0;32mIn[13], line 27\u001b[0m, in \u001b[0;36mdisplay_word_tree\u001b[0;34m(phrases, keyword)\u001b[0m\n\u001b[1;32m      2\u001b[0m \u001b[38;5;28;01mdef\u001b[39;00m \u001b[38;5;21mdisplay_word_tree\u001b[39m(phrases, keyword):\n\u001b[1;32m      3\u001b[0m     js_code \u001b[38;5;241m=\u001b[39m \u001b[38;5;124;43m\"\"\"\u001b[39;49m\n\u001b[1;32m      4\u001b[0m \u001b[38;5;124;43m    <script type=\u001b[39;49m\u001b[38;5;124;43m\"\u001b[39;49m\u001b[38;5;124;43mtext/javascript\u001b[39;49m\u001b[38;5;124;43m\"\u001b[39;49m\u001b[38;5;124;43m src=\u001b[39;49m\u001b[38;5;124;43m\"\u001b[39;49m\u001b[38;5;124;43mhttps://www.gstatic.com/charts/loader.js\u001b[39;49m\u001b[38;5;124;43m\"\u001b[39;49m\u001b[38;5;124;43m></script>\u001b[39;49m\n\u001b[1;32m      5\u001b[0m \u001b[38;5;124;43m    <script type=\u001b[39;49m\u001b[38;5;124;43m\"\u001b[39;49m\u001b[38;5;124;43mtext/javascript\u001b[39;49m\u001b[38;5;124;43m\"\u001b[39;49m\u001b[38;5;124;43m>\u001b[39;49m\n\u001b[1;32m      6\u001b[0m \u001b[38;5;124;43m      google.charts.load(\u001b[39;49m\u001b[38;5;124;43m'\u001b[39;49m\u001b[38;5;124;43mcurrent\u001b[39;49m\u001b[38;5;124;43m'\u001b[39;49m\u001b[38;5;124;43m, \u001b[39;49m\u001b[38;5;124;43m{\u001b[39;49m\u001b[38;5;124;43mpackages:[\u001b[39;49m\u001b[38;5;124;43m'\u001b[39;49m\u001b[38;5;124;43mwordtree\u001b[39;49m\u001b[38;5;124;43m'\u001b[39;49m\u001b[38;5;124;43m]});\u001b[39;49m\n\u001b[1;32m      7\u001b[0m \u001b[38;5;124;43m      google.charts.setOnLoadCallback(drawChart);\u001b[39;49m\n\u001b[1;32m      8\u001b[0m \u001b[38;5;124;43m    \u001b[39;49m\n\u001b[1;32m      9\u001b[0m \u001b[38;5;124;43m      function drawChart() \u001b[39;49m\u001b[38;5;124;43m{\u001b[39;49m\n\u001b[1;32m     10\u001b[0m \u001b[38;5;124;43m        var data = google.visualization.arrayToDataTable([\u001b[39;49m\n\u001b[1;32m     11\u001b[0m \u001b[38;5;124;43m          [\u001b[39;49m\u001b[38;5;124;43m'\u001b[39;49m\u001b[38;5;124;43mPhrases\u001b[39;49m\u001b[38;5;124;43m'\u001b[39;49m\u001b[38;5;124;43m],\u001b[39;49m\n\u001b[1;32m     12\u001b[0m \u001b[38;5;124;43m          \u001b[39;49m\u001b[38;5;132;43;01m{}\u001b[39;49;00m\n\u001b[1;32m     13\u001b[0m \u001b[38;5;124;43m        ]);\u001b[39;49m\n\u001b[1;32m     14\u001b[0m \u001b[38;5;124;43m    \u001b[39;49m\n\u001b[1;32m     15\u001b[0m \u001b[38;5;124;43m        var options = \u001b[39;49m\u001b[38;5;124;43m{{\u001b[39;49m\n\u001b[1;32m     16\u001b[0m \u001b[38;5;124;43m          wordtree: \u001b[39;49m\u001b[38;5;124;43m{{\u001b[39;49m\n\u001b[1;32m     17\u001b[0m \u001b[38;5;124;43m            format: \u001b[39;49m\u001b[38;5;124;43m'\u001b[39;49m\u001b[38;5;124;43mimplicit\u001b[39;49m\u001b[38;5;124;43m'\u001b[39;49m\u001b[38;5;124;43m,\u001b[39;49m\n\u001b[1;32m     18\u001b[0m \u001b[38;5;124;43m            word: \u001b[39;49m\u001b[38;5;124;43m'\u001b[39;49m\u001b[38;5;132;43;01m{}\u001b[39;49;00m\u001b[38;5;124;43m'\u001b[39;49m\n\u001b[1;32m     19\u001b[0m \u001b[38;5;124;43m          }}\u001b[39;49m\n\u001b[1;32m     20\u001b[0m \u001b[38;5;124;43m        }};\u001b[39;49m\n\u001b[1;32m     21\u001b[0m \u001b[38;5;124;43m    \u001b[39;49m\n\u001b[1;32m     22\u001b[0m \u001b[38;5;124;43m        var chart = new google.visualization.WordTree(document.getElementById(\u001b[39;49m\u001b[38;5;124;43m'\u001b[39;49m\u001b[38;5;124;43mwordtree_basic\u001b[39;49m\u001b[38;5;124;43m'\u001b[39;49m\u001b[38;5;124;43m));\u001b[39;49m\n\u001b[1;32m     23\u001b[0m \u001b[38;5;124;43m        chart.draw(data, options);\u001b[39;49m\n\u001b[1;32m     24\u001b[0m \u001b[38;5;124;43m      }}\u001b[39;49m\n\u001b[1;32m     25\u001b[0m \u001b[38;5;124;43m    </script>\u001b[39;49m\n\u001b[1;32m     26\u001b[0m \u001b[38;5;124;43m    <div id=\u001b[39;49m\u001b[38;5;124;43m\"\u001b[39;49m\u001b[38;5;124;43mwordtree_basic\u001b[39;49m\u001b[38;5;124;43m\"\u001b[39;49m\u001b[38;5;124;43m style=\u001b[39;49m\u001b[38;5;124;43m\"\u001b[39;49m\u001b[38;5;124;43mwidth: 900px; height: 500px;\u001b[39;49m\u001b[38;5;124;43m\"\u001b[39;49m\u001b[38;5;124;43m></div>\u001b[39;49m\n\u001b[0;32m---> 27\u001b[0m \u001b[38;5;124;43m    \u001b[39;49m\u001b[38;5;124;43m\"\"\"\u001b[39;49m\u001b[38;5;241;43m.\u001b[39;49m\u001b[43mformat\u001b[49m\u001b[43m(\u001b[49m\u001b[43mphrases\u001b[49m\u001b[43m,\u001b[49m\u001b[43m \u001b[49m\u001b[43mkeyword\u001b[49m\u001b[43m)\u001b[49m\n\u001b[1;32m     29\u001b[0m     \u001b[38;5;28;01mreturn\u001b[39;00m HTML(js_code)\n",
      "\u001b[0;31mKeyError\u001b[0m: 'packages'"
     ]
    }
   ],
   "source": [
    "# Step 4: visualize the n-grams\n",
    "\n",
    "display_word_tree(filtered_strings, 'climate')\n"
   ]
  },
  {
   "cell_type": "markdown",
   "metadata": {},
   "source": [
    "## Others"
   ]
  },
  {
   "cell_type": "code",
   "execution_count": 9,
   "metadata": {},
   "outputs": [],
   "source": [
    "# read from text\n",
    "awl_dir = '../data/awl.txt'\n",
    "with open(awl_dir, 'r') as f:\n",
    "    awl = f.read().splitlines()\n"
   ]
  }
 ],
 "metadata": {
  "kernelspec": {
   "display_name": "Python 3",
   "language": "python",
   "name": "python3"
  },
  "language_info": {
   "codemirror_mode": {
    "name": "ipython",
    "version": 3
   },
   "file_extension": ".py",
   "mimetype": "text/x-python",
   "name": "python",
   "nbconvert_exporter": "python",
   "pygments_lexer": "ipython3",
   "version": "3.10.13"
  }
 },
 "nbformat": 4,
 "nbformat_minor": 2
}
